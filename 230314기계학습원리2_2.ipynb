{
  "nbformat": 4,
  "nbformat_minor": 0,
  "metadata": {
    "colab": {
      "provenance": [],
      "authorship_tag": "ABX9TyP/Ws47k8Q5+dFAgXcrzZWH",
      "include_colab_link": true
    },
    "kernelspec": {
      "name": "python3",
      "display_name": "Python 3"
    },
    "language_info": {
      "name": "python"
    }
  },
  "cells": [
    {
      "cell_type": "markdown",
      "metadata": {
        "id": "view-in-github",
        "colab_type": "text"
      },
      "source": [
        "<a href=\"https://colab.research.google.com/github/chaehchaeh/MajorAI-MLTheory-Math-/blob/main/230314%EA%B8%B0%EA%B3%84%ED%95%99%EC%8A%B5%EC%9B%90%EB%A6%AC2_2.ipynb\" target=\"_parent\"><img src=\"https://colab.research.google.com/assets/colab-badge.svg\" alt=\"Open In Colab\"/></a>"
      ]
    },
    {
      "cell_type": "markdown",
      "source": [
        "> ## 학습주제\n",
        "* 불균형자료 처리\n",
        "* 특성변수 선택"
      ],
      "metadata": {
        "id": "j5o0oje_wtto"
      }
    },
    {
      "cell_type": "markdown",
      "source": [
        "###불균형자료\n",
        "* 기계학습의 목적이 분류일 때, 특정 클래스의 관측치가 다른 클래스에 비해 현저히 낮게 나타나면 불균형자료라고 한다.\n",
        "* 예를들면 예가 98프로 아니오가 2프로일경우, 모두 예라고해도 98도의 정밀도를 달성함. recall을 높이기에 사례가 너무 적다"
      ],
      "metadata": {
        "id": "z2UX6ypUw4PQ"
      }
    },
    {
      "cell_type": "markdown",
      "source": [
        "불균형자료의 해결방안\n",
        "* 과소표집(undersampling)\n",
        "* 과대표집(oversampling)\n",
        "과소표집은 표본의 수를 줄이기 때문에 정밀도가 떨어지므로 일반적으로 과대표집이 통계적으로 유용함"
      ],
      "metadata": {
        "id": "xR-V2kd3xT9h"
      }
    },
    {
      "cell_type": "markdown",
      "source": [
        "과대표집의 대표적방법\n",
        "* 합성소수표집법(SMOTE, synthetic minority oversampling technique)\n",
        "* 조절합성표집법(ADASYN, adaptive synthetic sampling method)\n",
        " 두 방법 모두 다수클래스에 속한 관측치의 수와 같아지도록 소수클래스를 위한 합성관측치를 생성함"
      ],
      "metadata": {
        "id": "ciSwCTtsxsZL"
      }
    },
    {
      "cell_type": "code",
      "source": [
        "from collections import Counter\n",
        "from sklearn.datasets import make_classification\n",
        "from imblearn.over_sampling import SMOTE,ADASYN\n",
        "X,y= make_classification(n_classes=3, weights=[0.03,0.07,0.9],\n",
        "                         n_features=10, n_clusters_per_class=1,\n",
        "                         n_samples=2000,random_state=10)\n",
        "print('Original dataset shape %s' % Counter(y))"
      ],
      "metadata": {
        "colab": {
          "base_uri": "https://localhost:8080/"
        },
        "id": "YFcExzR_wyOH",
        "outputId": "7bb8a710-b9c2-40ca-c33b-c19323383333"
      },
      "execution_count": 2,
      "outputs": [
        {
          "output_type": "stream",
          "name": "stdout",
          "text": [
            "Original dataset shape Counter({2: 1795, 1: 141, 0: 64})\n"
          ]
        }
      ]
    },
    {
      "cell_type": "code",
      "source": [
        "sm=SMOTE(random_state=42)\n",
        "X_res,y_res=sm.fit_resample(X,y)\n",
        "print('Resampled dataset shape %s' % Counter(y_res))"
      ],
      "metadata": {
        "colab": {
          "base_uri": "https://localhost:8080/"
        },
        "id": "7J28-D1N0qKw",
        "outputId": "629cbbb8-3636-4d3b-bc7e-fa0ef1784c0f"
      },
      "execution_count": 4,
      "outputs": [
        {
          "output_type": "stream",
          "name": "stdout",
          "text": [
            "Resampled dataset shape Counter({2: 1795, 1: 1795, 0: 1795})\n"
          ]
        }
      ]
    },
    {
      "cell_type": "code",
      "source": [
        "ada=ADASYN(random_state=0)\n",
        "X_syn,y_syn=ada.fit_resample(X,y)\n",
        "print('Resampled dataset shape from ADASYN %s'% Counter(y_syn))"
      ],
      "metadata": {
        "colab": {
          "base_uri": "https://localhost:8080/"
        },
        "id": "HdGOU0Di1yoH",
        "outputId": "e5a9db1e-489e-41fa-c0fd-8a2d1dd27774"
      },
      "execution_count": 7,
      "outputs": [
        {
          "output_type": "stream",
          "name": "stdout",
          "text": [
            "Resampled dataset shape from ADASYN Counter({1: 1805, 2: 1795, 0: 1795})\n"
          ]
        }
      ]
    },
    {
      "cell_type": "markdown",
      "source": [
        "###특성변수의 선택\n",
        "* 목적변수를 잘 설명하는 특성변수의 선택은 불필요한 특성변수를 제거하여 일반화가 가능한 모형을 구축하는데 중요한 역할을 함\n",
        "* 특성변수가 너무 많아 특성변수의 차원을 줄이는데도 기여하는 통계적 기법임\n",
        "* 특성변수의 선택기준은 목적변수를 얼마나 잘 설명하는지를 측정하는 통계랑임\n",
        "대표적인 통계량은 X2와 F통계량이 있음\n",
        "* 어떤 특성변수의 X2또는 F값이 크면 클수록 그 특성변수는 목적변수를 설명하는 기여도가 높다고 할 수 있음\n",
        "* 통계량이 제곱합의 형태, 예를들어 SSE와 같이 제곱합이면 X2통계량이고 제곱합의 비는 F통계량이라고 생각하면 됨"
      ],
      "metadata": {
        "id": "0XBq4-e_2PCo"
      }
    },
    {
      "cell_type": "code",
      "source": [],
      "metadata": {
        "id": "mtKO_6091_8C"
      },
      "execution_count": null,
      "outputs": []
    }
  ]
}