{
  "nbformat": 4,
  "nbformat_minor": 0,
  "metadata": {
    "colab": {
      "provenance": [],
      "authorship_tag": "ABX9TyNaCiTzeZtbNFH6b+u4b9HE",
      "include_colab_link": true
    },
    "kernelspec": {
      "name": "python3",
      "display_name": "Python 3"
    },
    "language_info": {
      "name": "python"
    }
  },
  "cells": [
    {
      "cell_type": "markdown",
      "metadata": {
        "id": "view-in-github",
        "colab_type": "text"
      },
      "source": [
        "<a href=\"https://colab.research.google.com/github/chaehchaeh/MajorAI-MLTheory-Math-/blob/main/230330%EA%B8%B0%EA%B3%84%ED%95%99%EC%8A%B5%EC%9D%B4%EB%A1%A05_2.ipynb\" target=\"_parent\"><img src=\"https://colab.research.google.com/assets/colab-badge.svg\" alt=\"Open In Colab\"/></a>"
      ]
    },
    {
      "cell_type": "markdown",
      "source": [
        "### 적응적 선형 뉴런(ALN)\n",
        "목적변수: 0 또는 1의값을 갖는 범주형 변수,\n",
        "임계치에 도달하지 않으면 0 도달하면 1"
      ],
      "metadata": {
        "id": "t_7ekfUxcMvZ"
      }
    },
    {
      "cell_type": "code",
      "source": [
        "#데이터 불러오기\n",
        "import seaborn as sns\n",
        "import numpy as np\n",
        "#iris라는 변수명으로 iris data를 download\n",
        "iris=sns.load_dataset('iris')\n",
        "print(iris.head())\n",
        "#species열을 드롭하고 input X를 정의\n",
        "X=iris.drop('species',axis=1)\n",
        "y=iris['species']\n",
        "print(np.unique(y))"
      ],
      "metadata": {
        "colab": {
          "base_uri": "https://localhost:8080/"
        },
        "id": "zxZpeCO3cVil",
        "outputId": "768df915-b240-4d2e-d432-2383155c47d1"
      },
      "execution_count": 1,
      "outputs": [
        {
          "output_type": "stream",
          "name": "stdout",
          "text": [
            "   sepal_length  sepal_width  petal_length  petal_width species\n",
            "0           5.1          3.5           1.4          0.2  setosa\n",
            "1           4.9          3.0           1.4          0.2  setosa\n",
            "2           4.7          3.2           1.3          0.2  setosa\n",
            "3           4.6          3.1           1.5          0.2  setosa\n",
            "4           5.0          3.6           1.4          0.2  setosa\n",
            "['setosa' 'versicolor' 'virginica']\n"
          ]
        }
      ]
    },
    {
      "cell_type": "code",
      "source": [
        "#y data를 범주형으로 변환\n",
        "import numpy as np\n",
        "from sklearn.preprocessing import LabelEncoder\n",
        "classle=LabelEncoder()\n",
        "#species열의문자열을 categorical 값으로 전환\n",
        "y=classle.fit_transform(iris['species'].values)\n",
        "print(np.unique(y))"
      ],
      "metadata": {
        "colab": {
          "base_uri": "https://localhost:8080/"
        },
        "id": "xo2VgyArjo0H",
        "outputId": "9a1ec709-f020-4c42-d6b7-9db36693ffb3"
      },
      "execution_count": 2,
      "outputs": [
        {
          "output_type": "stream",
          "name": "stdout",
          "text": [
            "[0 1 2]\n"
          ]
        }
      ]
    },
    {
      "cell_type": "code",
      "source": [
        "#전체 데이터를 training set과 test set으로 split\n",
        "from sklearn.model_selection import train_test_split\n",
        "X_train,X_test,y_train,y_test=train_test_split(X,y,test_size=0.3, random_state=1,stratify=y)"
      ],
      "metadata": {
        "id": "6VHLUVojkSAE"
      },
      "execution_count": 3,
      "outputs": []
    },
    {
      "cell_type": "code",
      "source": [
        "#표준화\n",
        "from sklearn.preprocessing import StandardScaler\n",
        "sc=StandardScaler()\n",
        "sc.fit(X_train)\n",
        "X_train_std=sc.transform(X_train)\n",
        "X_test_std=sc.transform(X_test)"
      ],
      "metadata": {
        "id": "FKwMMtG2kl-U"
      },
      "execution_count": 5,
      "outputs": []
    },
    {
      "cell_type": "code",
      "source": [
        "#logistic regression\n",
        "from sklearn.linear_model import LogisticRegression\n",
        "Logit=LogisticRegression(C=1e2,multi_class='ovr', random_state=1)\n",
        "l_1=Logit.fit(X_train_std,y_train)\n",
        "y_train_pred=Logit.predict(X_train_std)\n",
        "y_test_pred=Logit.predict(X_test_std)"
      ],
      "metadata": {
        "id": "nRJcNhvgk3nj"
      },
      "execution_count": 7,
      "outputs": []
    },
    {
      "cell_type": "code",
      "source": [
        "#Accuracy score\n",
        "from sklearn.metrics import accuracy_score\n",
        "print(accuracy_score(y_test,y_test_pred))\n",
        "print(accuracy_score(y_train,y_train_pred))"
      ],
      "metadata": {
        "colab": {
          "base_uri": "https://localhost:8080/"
        },
        "id": "XO03loyrlqVl",
        "outputId": "d8b21329-9128-4f9a-9637-66988630392c"
      },
      "execution_count": 8,
      "outputs": [
        {
          "output_type": "stream",
          "name": "stdout",
          "text": [
            "0.9777777777777777\n",
            "0.9428571428571428\n"
          ]
        }
      ]
    },
    {
      "cell_type": "code",
      "source": [
        "#confusion matrix\n",
        "from sklearn.metrics import confusion_matrix\n",
        "print(confusion_matrix(y_test,y_test_pred))"
      ],
      "metadata": {
        "colab": {
          "base_uri": "https://localhost:8080/"
        },
        "id": "jACW2rU_maqN",
        "outputId": "bbc336fa-3b17-4d63-ef2a-1f7b8124087c"
      },
      "execution_count": 9,
      "outputs": [
        {
          "output_type": "stream",
          "name": "stdout",
          "text": [
            "[[15  0  0]\n",
            " [ 0 15  0]\n",
            " [ 0  1 14]]\n"
          ]
        }
      ]
    },
    {
      "cell_type": "code",
      "source": [
        "from sklearn.linear_model import LogisticRegression\n",
        "Logit=LogisticRegression(C=1e2, random_state=1, max_iter=200)\n",
        "Logit.fit(X_train,y_train)\n",
        "y_train_pred=Logit.predict(X_train)\n",
        "y_test_pred=Logit.predict(X_test)\n",
        "y_test_pred_proba=Logit.predict_proba(X_test)\n",
        "print(y_test_pred[:5])\n",
        "print(y_test_pred_proba[:5])"
      ],
      "metadata": {
        "colab": {
          "base_uri": "https://localhost:8080/"
        },
        "id": "x7sJ27vlmkBM",
        "outputId": "c1988bd4-33e5-43ef-981e-64b546016550"
      },
      "execution_count": 11,
      "outputs": [
        {
          "output_type": "stream",
          "name": "stdout",
          "text": [
            "[2 0 0 2 1]\n",
            "[[5.93681429e-10 5.76613309e-04 9.99423386e-01]\n",
            " [9.98985900e-01 1.01410042e-03 1.80282049e-20]\n",
            " [9.99809102e-01 1.90898095e-04 3.03657035e-21]\n",
            " [3.19355368e-05 4.41613552e-01 5.58354512e-01]\n",
            " [2.05727884e-05 9.99319906e-01 6.59521369e-04]]\n"
          ]
        }
      ]
    },
    {
      "cell_type": "code",
      "source": [
        "from sklearn.metrics import accuracy_score\n",
        "print(accuracy_score(y_test,y_test_pred))\n",
        "print(accuracy_score(y_train,y_train_pred))\n",
        "from sklearn.metrics import confusion_matrix\n",
        "print(confusion_matrix(y_test,y_test_pred))"
      ],
      "metadata": {
        "colab": {
          "base_uri": "https://localhost:8080/"
        },
        "id": "-e7yEADdnD9e",
        "outputId": "15c3be44-f03f-4490-fd08-f6a4d05397f4"
      },
      "execution_count": 12,
      "outputs": [
        {
          "output_type": "stream",
          "name": "stdout",
          "text": [
            "1.0\n",
            "0.9809523809523809\n",
            "[[15  0  0]\n",
            " [ 0 15  0]\n",
            " [ 0  0 15]]\n"
          ]
        }
      ]
    },
    {
      "cell_type": "code",
      "source": [
        "!pip install joblib"
      ],
      "metadata": {
        "colab": {
          "base_uri": "https://localhost:8080/"
        },
        "id": "tRTu_gbynZvu",
        "outputId": "8b365154-bb1c-4ced-b185-29862523c42c"
      },
      "execution_count": 13,
      "outputs": [
        {
          "output_type": "stream",
          "name": "stdout",
          "text": [
            "Looking in indexes: https://pypi.org/simple, https://us-python.pkg.dev/colab-wheels/public/simple/\n",
            "Requirement already satisfied: joblib in /usr/local/lib/python3.9/dist-packages (1.1.1)\n"
          ]
        }
      ]
    },
    {
      "cell_type": "code",
      "source": [
        "import joblib\n",
        "joblib.dump(Logit,'./save.pkl')\n",
        "logit_from_joblib=joblib.load('./save.pkl')\n",
        "logit_pred=logit_from_joblib.predict(X_test)\n",
        "print(accuracy_score(y_test,logit_pred))\n",
        "print(confusion_matrix(y_test,logit_pred))\n",
        "print(logit_pred)"
      ],
      "metadata": {
        "colab": {
          "base_uri": "https://localhost:8080/"
        },
        "id": "KQHUtT9Wnb2u",
        "outputId": "b27505d8-05e6-4507-a9b8-15425ca3eb38"
      },
      "execution_count": 14,
      "outputs": [
        {
          "output_type": "stream",
          "name": "stdout",
          "text": [
            "1.0\n",
            "[[15  0  0]\n",
            " [ 0 15  0]\n",
            " [ 0  0 15]]\n",
            "[2 0 0 2 1 1 2 1 2 0 0 2 0 1 0 1 2 1 1 2 2 0 1 2 1 1 1 2 0 2 0 0 1 1 2 2 0\n",
            " 0 0 1 2 2 1 0 0]\n"
          ]
        }
      ]
    },
    {
      "cell_type": "code",
      "source": [],
      "metadata": {
        "id": "PzZrmcEwn3ac"
      },
      "execution_count": null,
      "outputs": []
    }
  ]
}