{
  "nbformat": 4,
  "nbformat_minor": 0,
  "metadata": {
    "colab": {
      "provenance": [],
      "authorship_tag": "ABX9TyNcAXdppYorSbtZDgdlMVML",
      "include_colab_link": true
    },
    "kernelspec": {
      "name": "python3",
      "display_name": "Python 3"
    },
    "language_info": {
      "name": "python"
    }
  },
  "cells": [
    {
      "cell_type": "markdown",
      "metadata": {
        "id": "view-in-github",
        "colab_type": "text"
      },
      "source": [
        "<a href=\"https://colab.research.google.com/github/chaehchaeh/MajorAI-MLTheory-Math-/blob/main/%EA%B8%B0%EA%B3%84%ED%95%99%EC%8A%B5%EC%9B%90%EB%A6%AC1_2.ipynb\" target=\"_parent\"><img src=\"https://colab.research.google.com/assets/colab-badge.svg\" alt=\"Open In Colab\"/></a>"
      ]
    },
    {
      "cell_type": "markdown",
      "source": [
        "## 실수 자료로의 전환(vectorization)"
      ],
      "metadata": {
        "id": "emF_GFE50UM8"
      }
    },
    {
      "cell_type": "code",
      "execution_count": null,
      "metadata": {
        "colab": {
          "base_uri": "https://localhost:8080/"
        },
        "id": "AXfg1-qV0Nd1",
        "outputId": "b1923b6a-b4af-47e1-e491-e08a84e46813"
      },
      "outputs": [
        {
          "output_type": "execute_result",
          "data": {
            "text/plain": [
              "[{'city': 'seoul', 'temp': 10.0},\n",
              " {'city': 'Dubai', 'temp': 33.5},\n",
              " {'city': 'LA', 'temp': 20.0}]"
            ]
          },
          "metadata": {},
          "execution_count": 2
        }
      ],
      "source": [
        "# 범주형 자료\n",
        "x=[{'city':'seoul','temp':10.0},\n",
        "   {'city':'Dubai','temp':33.5},\n",
        "   {'city':'LA','temp':20.0}]\n",
        "x"
      ]
    },
    {
      "cell_type": "code",
      "source": [
        "from sklearn.feature_extraction import DictVectorizer\n",
        "vec=DictVectorizer(sparse=False) \n",
        "vec.fit_transform(x) #X를 범주형 수량화 자료로 변환 "
      ],
      "metadata": {
        "colab": {
          "base_uri": "https://localhost:8080/"
        },
        "id": "OrZCSW8B0XmT",
        "outputId": "43fbfcaa-a920-4381-f038-fa9761f9e5aa"
      },
      "execution_count": null,
      "outputs": [
        {
          "output_type": "execute_result",
          "data": {
            "text/plain": [
              "array([[ 0. ,  0. ,  1. , 10. ],\n",
              "       [ 1. ,  0. ,  0. , 33.5],\n",
              "       [ 0. ,  1. ,  0. , 20. ]])"
            ]
          },
          "metadata": {},
          "execution_count": 19
        }
      ]
    },
    {
      "cell_type": "code",
      "source": [
        "##가설: 여기 도시가 네개라면 1by4의 벡터로 표현될까\n",
        "y=[{'city':'seoul','temp':10.0},\n",
        "   {'city':'Dubai','temp':33.5},\n",
        "   {'city':'LA','temp':20.0},\n",
        "   {'city':'daugu','temp':15.0}]\n",
        "y"
      ],
      "metadata": {
        "colab": {
          "base_uri": "https://localhost:8080/"
        },
        "id": "R3ToumJd34dP",
        "outputId": "0aee1270-5e5e-4c22-8eb4-b29321439fc3"
      },
      "execution_count": null,
      "outputs": [
        {
          "output_type": "execute_result",
          "data": {
            "text/plain": [
              "[{'city': 'seoul', 'temp': 10.0},\n",
              " {'city': 'Dubai', 'temp': 33.5},\n",
              " {'city': 'LA', 'temp': 20.0},\n",
              " {'city': 'daugu', 'temp': 15.0}]"
            ]
          },
          "metadata": {},
          "execution_count": 22
        }
      ]
    },
    {
      "cell_type": "code",
      "source": [
        "vec.fit_transform(y)"
      ],
      "metadata": {
        "colab": {
          "base_uri": "https://localhost:8080/"
        },
        "id": "auiJUbDY5BVi",
        "outputId": "88fabce9-1474-4f07-bf1d-ca90fe3a2d64"
      },
      "execution_count": null,
      "outputs": [
        {
          "output_type": "execute_result",
          "data": {
            "text/plain": [
              "array([[ 0. ,  0. ,  0. ,  1. , 10. ],\n",
              "       [ 1. ,  0. ,  0. ,  0. , 33.5],\n",
              "       [ 0. ,  1. ,  0. ,  0. , 20. ],\n",
              "       [ 0. ,  0. ,  1. ,  0. , 15. ]])"
            ]
          },
          "metadata": {},
          "execution_count": 21
        }
      ]
    },
    {
      "cell_type": "code",
      "source": [
        "#메모리를 줄이기 위해 sparse=True\n",
        "vec1=DictVectorizer(sparse=True)\n",
        "x1=vec1.fit_transform(x)\n",
        "x1"
      ],
      "metadata": {
        "colab": {
          "base_uri": "https://localhost:8080/"
        },
        "id": "_FynKsxh1F8Q",
        "outputId": "6c5ec24e-6c12-469a-e011-697785c7c07f"
      },
      "execution_count": null,
      "outputs": [
        {
          "output_type": "execute_result",
          "data": {
            "text/plain": [
              "<3x4 sparse matrix of type '<class 'numpy.float64'>'\n",
              "\twith 6 stored elements in Compressed Sparse Row format>"
            ]
          },
          "metadata": {},
          "execution_count": 13
        }
      ]
    },
    {
      "cell_type": "code",
      "source": [
        "x2=x1.toarray() #sparse=True를 풀고 배열로 변경\n",
        "print(x1)\n",
        "print(x2)\n",
        "vec1.get_feature_names_out()"
      ],
      "metadata": {
        "colab": {
          "base_uri": "https://localhost:8080/"
        },
        "id": "W8CZVO5I1g5_",
        "outputId": "f91e890f-5162-4309-ea71-b267939ea1d3"
      },
      "execution_count": null,
      "outputs": [
        {
          "output_type": "stream",
          "name": "stdout",
          "text": [
            "  (0, 2)\t1.0\n",
            "  (0, 3)\t10.0\n",
            "  (1, 0)\t1.0\n",
            "  (1, 3)\t33.5\n",
            "  (2, 1)\t1.0\n",
            "  (2, 3)\t20.0\n",
            "[[ 0.   0.   1.  10. ]\n",
            " [ 1.   0.   0.  33.5]\n",
            " [ 0.   1.   0.  20. ]]\n"
          ]
        },
        {
          "output_type": "execute_result",
          "data": {
            "text/plain": [
              "array(['city=Dubai', 'city=LA', 'city=seoul', 'temp'], dtype=object)"
            ]
          },
          "metadata": {},
          "execution_count": 17
        }
      ]
    },
    {
      "cell_type": "markdown",
      "source": [],
      "metadata": {
        "id": "1UuFPomH5meC"
      }
    },
    {
      "cell_type": "code",
      "source": [],
      "metadata": {
        "id": "p4yQT0uL1r8t"
      },
      "execution_count": null,
      "outputs": []
    }
  ]
}